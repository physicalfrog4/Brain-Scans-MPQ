{
 "cells": [
  {
   "cell_type": "code",
   "execution_count": null,
   "metadata": {},
   "outputs": [],
   "source": [
    "import os\n",
    "import numpy as np\n",
    "import torch\n",
    "from nilearn import plotting\n",
    "import data\n",
    "import visualize\n",
    "from words import make_classifications, Predictions\n",
    "from data import normalize_fmri_data, unnormalize_fmri_data, analyze_results\n",
    "from LEM import extract_data_features, predAccuracy\n",
    "from numpy.linalg import norm\n",
    "from sklearn.metrics import mean_squared_error, mean_absolute_error\n",
    "from sklearn.linear_model import LinearRegression, BayesianRidge\n",
    "from sklearn.ensemble import RandomForestRegressor\n",
    "from sklearn import tree, svm\n",
    "from sklearn.neural_network import MLPRegressor"
   ]
  },
  {
   "cell_type": "code",
   "execution_count": null,
   "metadata": {},
   "outputs": [],
   "source": [
    "class argObj:\n",
    "    def __init__(self, data_dir, parent_submission_dir, subj):\n",
    "        self.subj = format(subj, '02')\n",
    "        self.data_dir = os.path.join(data_dir, 'subj' + self.subj)\n",
    "        self.parent_submission_dir = parent_submission_dir\n",
    "        self.subject_submission_dir = os.path.join(self.parent_submission_dir,\n",
    "                                                   'subj' + self.subj)\n",
    "\n"
   ]
  },
  {
   "cell_type": "code",
   "execution_count": null,
   "metadata": {},
   "outputs": [],
   "source": [
    "words2 = ['furniture', 'food', 'kitchenware', 'appliance', 'person', 'animal', 'vehicle', 'objects',\n",
    "            'electronics', 'sports', 'traffic', 'outdoor', 'home', 'plumbing', 'computer']"
   ]
  },
  {
   "cell_type": "code",
   "execution_count": null,
   "metadata": {},
   "outputs": [],
   "source": [
    "platform = 'jupyter_notebook'\n",
    "device = 'cpu'\n",
    "# device = torch.device('cpu')\n",
    "# setting up the directories and ARGS\n",
    "data_dir = ''#../MQP/algonauts_2023_challenge_data/'\n",
    "parent_submission_dir = '../submission'\n",
    "subj = 1 # @param [\"1\", \"2\", \"3\", \"4\", \"5\", \"6\", \"7\", \"8\"] {type:\"raw\", allow-input: true}\n",
    "# args\n",
    "\n",
    "args = argObj(data_dir, parent_submission_dir, subj)\n",
    "fmri_dir = os.path.join(args.data_dir, 'training_split', 'training_fmri')\n",
    "lh_fmri = np.load(os.path.join(fmri_dir, 'lh_training_fmri.npy'))\n",
    "rh_fmri = np.load(os.path.join(fmri_dir, 'rh_training_fmri.npy'))\n",
    "\n",
    "words = ['furniture', 'food', 'kitchenware', 'appliance', 'person', 'animal', 'vehicle', 'accessory',\n",
    "            'electronics', 'sports', 'traffic', 'outdoor', 'home', 'clothing', 'hygiene', 'toy', 'plumbing', \n",
    "             'computer', 'fruit', 'vegetable', 'tool']\n"
   ]
  },
  {
   "cell_type": "code",
   "execution_count": null,
   "metadata": {},
   "outputs": [],
   "source": [
    "print(\"________ Process Data ________\")\n",
    "\n",
    "# Normalize Data Before Split\n",
    "lh_fmri, lh_data_min, lh_data_max = normalize_fmri_data(lh_fmri)\n",
    "rh_fmri, rh_data_min, rh_data_max = normalize_fmri_data(rh_fmri)\n",
    "\n",
    "print('LH training fMRI data shape:')\n",
    "print(lh_fmri.shape)\n",
    "print('(Training stimulus images × LH vertices)')\n",
    "\n",
    "print('\\nRH training fMRI data shape:')\n",
    "print(rh_fmri.shape)\n",
    "print('(Training stimulus images × RH vertices)')\n",
    "\n",
    "train_img_dir = os.path.join(args.data_dir, 'training_split', 'training_images')\n",
    "test_img_dir = os.path.join(args.data_dir, 'test_split', 'test_images')\n",
    "train_img_list = os.listdir(train_img_dir)\n",
    "train_img_list = train_img_list[: 4500]\n",
    "train_img_list.sort()\n",
    "test_img_list = os.listdir(test_img_dir)\n",
    "test_img_list.sort()\n",
    "\n",
    "print('\\nTraining images: ' + str(len(train_img_list)))\n",
    "print('\\nTest images: ' + str(len(test_img_list)))\n"
   ]
  },
  {
   "cell_type": "code",
   "execution_count": null,
   "metadata": {},
   "outputs": [],
   "source": [
    "print(\"________ Split Data ________\")\n",
    "\n",
    "idxs_train, idxs_val, idxs_test = data.splitdata(train_img_list, test_img_list, train_img_dir)\n",
    "lh_fmri_train = lh_fmri[idxs_train]\n",
    "rh_fmri_train = rh_fmri[idxs_train]\n",
    "lh_fmri_val = lh_fmri[idxs_val]\n",
    "rh_fmri_val = rh_fmri[idxs_val]"
   ]
  },
  {
   "cell_type": "code",
   "execution_count": null,
   "metadata": {},
   "outputs": [],
   "source": [
    "print(\"________ Make Lists ________\")\n",
    "\n",
    "train_images = data.makeList(train_img_dir, train_img_list, idxs_train)\n",
    "val_images = data.makeList(train_img_dir, train_img_list, idxs_val)\n",
    "test_images = data.makeList(test_img_dir, test_img_list, idxs_test)\n",
    "torch.cuda.empty_cache()"
   ]
  },
  {
   "cell_type": "code",
   "execution_count": null,
   "metadata": {},
   "outputs": [],
   "source": [
    "print(\"________ Make Classifications ________\")\n",
    "lh_classifications = make_classifications(train_images, idxs_train, device)\n",
    "rh_classifications = lh_classifications\n",
    "lh_classifications_val = make_classifications(val_images, idxs_val, device)\n",
    "rh_classifications_val = lh_classifications_val\n",
    "lh_classifications_test = make_classifications(test_images, idxs_test, device)\n",
    "rh_classifications_test = lh_classifications_test\n",
    "torch.cuda.empty_cache()"
   ]
  },
  {
   "cell_type": "code",
   "execution_count": null,
   "metadata": {},
   "outputs": [],
   "source": [
    "print(\"________ Extract Image Features ________\")\n",
    "\n",
    "train_imgs_dataloader, val_imgs_dataloader, test_imgs_dataloader = (\n",
    "    data.transformData(train_img_dir, test_img_dir, idxs_train, idxs_val, idxs_test, 128))\n",
    "\n",
    "features_train, features_val, features_test = (\n",
    "    extract_data_features(train_imgs_dataloader, val_imgs_dataloader, test_imgs_dataloader, 128))"
   ]
  },
  {
   "cell_type": "code",
   "execution_count": null,
   "metadata": {},
   "outputs": [],
   "source": [
    "print(\"________ Organize Input________\")\n",
    "\n",
    "LH_train_class, LH_train_FMRI = data.organize_input(lh_classifications, features_train, lh_fmri_train)\n",
    "LH_val_class, LH_val_FMRI = data.organize_input(lh_classifications_val, features_val, lh_fmri_val)    \n",
    "RH_train_class, RH_train_FMRI = data.organize_input(rh_classifications, features_train, rh_fmri_train)\n",
    "RH_val_class, RH_val_FMRI = data.organize_input(rh_classifications_val, features_val, rh_fmri_val)\n"
   ]
  },
  {
   "cell_type": "markdown",
   "metadata": {},
   "source": [
    "Linear Regression"
   ]
  },
  {
   "cell_type": "code",
   "execution_count": null,
   "metadata": {},
   "outputs": [],
   "source": [
    "print(\"________ Predictions Validation ________\")\n",
    "model = LinearRegression()\n",
    "lh_fmri_val_pred = Predictions(LH_train_class, LH_train_FMRI, LH_val_class, model)\n",
    "print('checkpoint')\n",
    "rh_fmri_val_pred = Predictions(RH_train_class, RH_train_FMRI, RH_val_class, model)\n",
    "# lh_fmri_test_pred = Predictions(LH_train_class, LH_train_FMRI, LH_test_class )\n",
    "# rh_fmri_test_pred = Predictions(RH_train_class, RH_train_FMRI, RH_test_class )\n"
   ]
  },
  {
   "cell_type": "code",
   "execution_count": null,
   "metadata": {},
   "outputs": [],
   "source": [
    "print(\"________ Analyze Results ________\")\n",
    "\n",
    "analyze_results(LH_val_FMRI, lh_fmri_val_pred)\n",
    "analyze_results(RH_val_FMRI, rh_fmri_val_pred)"
   ]
  },
  {
   "cell_type": "markdown",
   "metadata": {},
   "source": [
    "MLP Regressor"
   ]
  },
  {
   "cell_type": "code",
   "execution_count": null,
   "metadata": {},
   "outputs": [],
   "source": [
    "print(\"________ Predictions Validation ________\")\n",
    "model = MLPRegressor(random_state=1, max_iter=500)\n",
    "model.fit(LH_train_class,LH_train_FMRI)\n",
    "lh_fmri_val_pred = model.predict(LH_val_class)\n",
    "\n",
    "model.fit(RH_train_class,RH_train_FMRI)\n",
    "rh_fmri_val_pred = model.predict(RH_val_class)\n"
   ]
  },
  {
   "cell_type": "code",
   "execution_count": null,
   "metadata": {},
   "outputs": [],
   "source": [
    "print(\"________ Analyze Results ________\")\n",
    "analyze_results(LH_val_FMRI, lh_fmri_val_pred)\n",
    "analyze_results(RH_val_FMRI, rh_fmri_val_pred)"
   ]
  },
  {
   "cell_type": "markdown",
   "metadata": {},
   "source": [
    "Decision Tree Regressor"
   ]
  },
  {
   "cell_type": "code",
   "execution_count": null,
   "metadata": {},
   "outputs": [],
   "source": [
    "print(\"________ Predictions Validation ________\")\n",
    "model = tree.DecisionTreeRegressor()\n",
    "lh_fmri_val_pred = Predictions(LH_train_class, LH_train_FMRI, LH_val_class, model)\n",
    "print('checkpoint')\n",
    "rh_fmri_val_pred = Predictions(RH_train_class, RH_train_FMRI, RH_val_class, model)\n",
    "# lh_fmri_test_pred = Predictions(LH_train_class, LH_train_FMRI, LH_test_class )\n",
    "# rh_fmri_test_pred = Predictions(RH_train_class, RH_train_FMRI, RH_test_class )"
   ]
  },
  {
   "cell_type": "code",
   "execution_count": null,
   "metadata": {},
   "outputs": [],
   "source": [
    "print(\"________ Analyze Results ________\")\n",
    "\n",
    "analyze_results(LH_val_FMRI, lh_fmri_val_pred)\n",
    "analyze_results(RH_val_FMRI, rh_fmri_val_pred)"
   ]
  },
  {
   "cell_type": "code",
   "execution_count": null,
   "metadata": {},
   "outputs": [],
   "source": [
    "print(\"________ Unnormalize Data ________\")\n",
    "\n",
    "lh_fmri_val_pred = unnormalize_fmri_data(lh_fmri_val_pred, lh_data_min, lh_data_max)\n",
    "rh_fmri_val_pred = unnormalize_fmri_data(rh_fmri_val_pred, rh_data_min, rh_data_max)"
   ]
  },
  {
   "cell_type": "code",
   "execution_count": null,
   "metadata": {},
   "outputs": [],
   "source": [
    "print(\"________ Re-Load Data ________\")\n",
    "lh_fmri = np.load(os.path.join(fmri_dir, 'lh_training_fmri.npy'))\n",
    "rh_fmri = np.load(os.path.join(fmri_dir, 'rh_training_fmri.npy'))\n",
    "\n",
    "lh_fmri_val = lh_fmri[idxs_val]\n",
    "rh_fmri_val = rh_fmri[idxs_val]\n"
   ]
  },
  {
   "cell_type": "code",
   "execution_count": null,
   "metadata": {},
   "outputs": [],
   "source": [
    "print(\"________ Prediction Accuracy ________\")\n",
    "\n",
    "lh_correlation, rh_correlation = predAccuracy(lh_fmri_val_pred, lh_fmri_val, rh_fmri_val_pred, rh_fmri_val)\n"
   ]
  },
  {
   "cell_type": "code",
   "execution_count": null,
   "metadata": {},
   "outputs": [],
   "source": [
    "print(\"________ Visualize Each Class ________\")\n",
    "\n",
    "length = len(words)\n",
    "for clss in range(length):\n",
    "    avg_lh_pred = []\n",
    "    avg_lh_real = []\n",
    "    avg_rh_pred = []\n",
    "    avg_rh_real = []\n",
    "    for i in range(len(lh_classifications_val)):\n",
    "\n",
    "        if lh_classifications_val[i][1] == clss:\n",
    "            avg_lh_pred.append(lh_fmri_val_pred[i])\n",
    "            avg_lh_real.append(lh_fmri_val[i])\n",
    "\n",
    "        if rh_classifications_val[i][1] == clss:\n",
    "            avg_rh_pred.append(rh_fmri_val_pred[i])\n",
    "            avg_rh_real.append(rh_fmri_val[i])\n",
    "    # Only look at classes that are observed \n",
    "    if(len(avg_lh_pred) < 10):\n",
    "        pass\n",
    "    else:\n",
    "        print(words[clss])\n",
    "        lh = np.mean(avg_lh_pred, axis=0)\n",
    "        rh = np.mean(avg_rh_pred, axis=0)\n",
    "        print(\"MEAN PRED LH:\\n\", lh)\n",
    "        print(\"MEAN PRED RH:\\n\", rh)\n",
    "        visualize.plot_predictions(args, lh, rh, 'left')\n",
    "        visualize.plot_predictions(args, lh, rh, 'right')\n",
    "        plotting.show()\n",
    "        lh2 = np.mean(avg_lh_real, axis=0)\n",
    "        rh2 = np.mean(avg_rh_real, axis=0)\n",
    "        print(\"MEAN REAL LH:\\n\", lh2)\n",
    "        print(\"MEAN REAL RH:\\n\", rh2)\n",
    "        visualize.plot_predictions(args, lh2, rh2, 'left')\n",
    "        visualize.plot_predictions(args, lh2, rh2, 'right')\n",
    "        plotting.show()\n",
    "        corr = np.corrcoef(avg_lh_pred, avg_lh_real)\n",
    "        print(len(avg_lh_pred))\n",
    "        print(\"Corre \", np.mean(corr))\n",
    "\n",
    "print(\"________ END ________\")"
   ]
  }
 ],
 "metadata": {
  "kernelspec": {
   "display_name": "Python 3",
   "language": "python",
   "name": "python3"
  },
  "language_info": {
   "codemirror_mode": {
    "name": "ipython",
    "version": 3
   },
   "file_extension": ".py",
   "mimetype": "text/x-python",
   "name": "python",
   "nbconvert_exporter": "python",
   "pygments_lexer": "ipython3",
   "version": "3.11.5"
  }
 },
 "nbformat": 4,
 "nbformat_minor": 2
}
