{
 "cells": [
  {
   "cell_type": "code",
   "execution_count": null,
   "metadata": {},
   "outputs": [],
   "source": [
    "import torch\n",
    "\n",
    "from models import CocoVGG\n",
    "from datasets import COCOImgWithLabel, BalancedCocoSuperClassDataset"
   ]
  },
  {
   "cell_type": "code",
   "execution_count": null,
   "metadata": {},
   "outputs": [],
   "source": [
    "class roiVGG(torch.nn.Module):\n",
    "    def __init__(self, numClasses: int, cocoVGGWeights):\n",
    "        super(roiVGG, self).__init__()\n",
    "        self.cocoVgg19 = CocoVGG(numClasses)\n",
    "        self.cocoVgg19.load_state_dict(cocoVGGWeights)\n",
    "        for params in self.cocoVgg19.parameters():\n",
    "            params.requires_grad = False\n",
    "\n",
    "        self.cocoClassifier = self.cocoVgg19.classifier\n",
    "        self.roiClassifier = \n",
    "\n",
    "\n",
    "    def forward(self):\n"
   ]
  },
  {
   "cell_type": "code",
   "execution_count": null,
   "metadata": {},
   "outputs": [],
   "source": [
    "class VGGROI (torch.nn.Module):\n",
    "    def __init__(self, numROIs):\n",
    "        super(VGGROI, self).__init__()\n",
    "        self.vgg = vgg19(weights=\"DEFAULT\")\n",
    "        self.convFeatures = self.vgg.features[:36]\n",
    "        self.maxPool = torch.nn.MaxPool2d(kernel_size = 2, stride = 2, padding = 0, dilation = 1, ceil_mode = False)\n",
    "        self.adaptiveAvgPool = torch.nn.AdaptiveAvgPool2d(output_size = (7, 7))\n",
    "        self.classifier = torch.nn.Sequential(\n",
    "            torch.nn.Linear(in_features = 25088, out_features = 4096),\n",
    "            torch.nn.ReLU(inplace=True),\n",
    "            torch.nn.Linear(in_features = 4096, out_features = 1024),\n",
    "            torch.nn.ReLU(inplace=True),\n",
    "            torch.nn.Linear(in_features = 1024, out_features = numROIs)\n",
    "        )\n",
    "        # self.restOfModel = torch.nn.Sequential(\n",
    "        #     self.maxPool,\n",
    "        #     self.adaptiveAvgPool,\n",
    "        #     self.classifier\n",
    "        # )\n",
    "        self.gradients = None\n",
    "    def activations_hook(self, grad):\n",
    "        self.gradients = grad\n",
    "    def forward(self, img):\n",
    "        extractedFeatures = self.convFeatures(img)\n",
    "        hook = extractedFeatures.register_hook(self.activations_hook)\n",
    "        rest = self.maxPool(extractedFeatures)\n",
    "        rest = self.adaptiveAvgPool(rest)\n",
    "        rest = torch.flatten(rest, 1)\n",
    "        rest = self.classifier(rest)\n",
    "        return rest\n",
    "    def get_activation_gradient(self):\n",
    "        return self.gradients\n",
    "    def get_activations(self, img):\n",
    "        return self.convFeatures(img)"
   ]
  }
 ],
 "metadata": {
  "kernelspec": {
   "display_name": "Python 3.11.1 64-bit",
   "language": "python",
   "name": "python3"
  },
  "language_info": {
   "name": "python",
   "version": "3.11.1"
  },
  "orig_nbformat": 4,
  "vscode": {
   "interpreter": {
    "hash": "8907f5995ab74a6cd5df9da2d2bcd12f57f5b23c9c38358337eeb837f01ad676"
   }
  }
 },
 "nbformat": 4,
 "nbformat_minor": 2
}
