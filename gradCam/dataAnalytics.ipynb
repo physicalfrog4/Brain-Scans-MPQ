{
 "cells": [
  {
   "cell_type": "code",
   "execution_count": 1,
   "metadata": {},
   "outputs": [],
   "source": [
    "import pandas as pd\n",
    "import os\n",
    "import numpy as np"
   ]
  },
  {
   "cell_type": "code",
   "execution_count": 2,
   "metadata": {},
   "outputs": [],
   "source": [
    "parentDir = \"C:/Users/josem/Documents/schoolWork/MQP/algonauts2023_transformers#2Leader/algonauts_2023_challenge_data/\"\n",
    "metaDataDir = \"C:/Users/josem/Documents/schoolWork/MQP/Git/MQPCode/test/subjCocoImgData/\""
   ]
  },
  {
   "cell_type": "code",
   "execution_count": 11,
   "metadata": {},
   "outputs": [],
   "source": [
    "# subj = 1\n",
    "# filePath = os.path.join(metaDataDir, f\"subj0{subj}ImgData.pkl\")\n",
    "pklDatas = []"
   ]
  },
  {
   "cell_type": "code",
   "execution_count": 12,
   "metadata": {},
   "outputs": [],
   "source": [
    "def formatFilePath(row, subj):\n",
    "    # print(row)\n",
    "    trainNumber = str(row.name + 1).zfill(4)\n",
    "    nsdId = str(row[\"nsdId\"]).zfill(5)\n",
    "\n",
    "    return os.path.join(parentDir, f\"subj0{subj}/training_split/training_images/\", f\"train-{trainNumber}_nsd-{nsdId}.png\")\n",
    "\n"
   ]
  },
  {
   "cell_type": "code",
   "execution_count": 3,
   "metadata": {},
   "outputs": [],
   "source": [
    "filePath = os.path.join(metaDataDir, f\"subj01ImgData.pkl\")\n",
    "pklData = pd.read_pickle(filePath)\n",
    "\n",
    "pklData.sort_index()"
   ]
  },
  {
   "cell_type": "code",
   "execution_count": 10,
   "metadata": {},
   "outputs": [
    {
     "data": {
      "text/plain": [
       "superClassLabel\n",
       "animal        1932\n",
       "person        1837\n",
       "vehicle       1623\n",
       "furniture      984\n",
       "kitchen        650\n",
       "sports         527\n",
       "food           467\n",
       "electronic     441\n",
       "indoor         434\n",
       "accessory      404\n",
       "outdoor        343\n",
       "appliance      199\n",
       "Name: count, dtype: int64"
      ]
     },
     "execution_count": 10,
     "metadata": {},
     "output_type": "execute_result"
    }
   ],
   "source": [
    "pklData[\"superClassLabel\"].value_counts()"
   ]
  },
  {
   "cell_type": "code",
   "execution_count": 13,
   "metadata": {},
   "outputs": [],
   "source": [
    "for i in range(1,9):\n",
    "    filePath = os.path.join(metaDataDir, f\"subj0{i}ImgData.pkl\")\n",
    "    pklData = pd.read_pickle(filePath)\n",
    "    pklData[\"path\"] = pklData.apply(formatFilePath, axis=1, subj = 1)\n",
    "    pklDatas.append(pklData)\n",
    "\n"
   ]
  },
  {
   "cell_type": "code",
   "execution_count": 14,
   "metadata": {},
   "outputs": [],
   "source": [
    "data = pd.concat(pklDatas).reset_index(drop=True)"
   ]
  },
  {
   "cell_type": "code",
   "execution_count": 75,
   "metadata": {},
   "outputs": [
    {
     "data": {
      "text/html": [
       "<div>\n",
       "<style scoped>\n",
       "    .dataframe tbody tr th:only-of-type {\n",
       "        vertical-align: middle;\n",
       "    }\n",
       "\n",
       "    .dataframe tbody tr th {\n",
       "        vertical-align: top;\n",
       "    }\n",
       "\n",
       "    .dataframe thead th {\n",
       "        text-align: right;\n",
       "    }\n",
       "</style>\n",
       "<table border=\"1\" class=\"dataframe\">\n",
       "  <thead>\n",
       "    <tr style=\"text-align: right;\">\n",
       "      <th></th>\n",
       "      <th>nsdId</th>\n",
       "      <th>cocoSplit</th>\n",
       "      <th>cocoId</th>\n",
       "      <th>classLabel</th>\n",
       "      <th>superClassLabel</th>\n",
       "      <th>path</th>\n",
       "    </tr>\n",
       "  </thead>\n",
       "  <tbody>\n",
       "    <tr>\n",
       "      <th>0</th>\n",
       "      <td>13</td>\n",
       "      <td>val2017</td>\n",
       "      <td>24610</td>\n",
       "      <td>chair</td>\n",
       "      <td>furniture</td>\n",
       "      <td>C:/Users/josem/Documents/schoolWork/MQP/algona...</td>\n",
       "    </tr>\n",
       "    <tr>\n",
       "      <th>1</th>\n",
       "      <td>27</td>\n",
       "      <td>val2017</td>\n",
       "      <td>254016</td>\n",
       "      <td>bowl</td>\n",
       "      <td>kitchen</td>\n",
       "      <td>C:/Users/josem/Documents/schoolWork/MQP/algona...</td>\n",
       "    </tr>\n",
       "    <tr>\n",
       "      <th>2</th>\n",
       "      <td>71</td>\n",
       "      <td>val2017</td>\n",
       "      <td>286908</td>\n",
       "      <td>dining table</td>\n",
       "      <td>furniture</td>\n",
       "      <td>C:/Users/josem/Documents/schoolWork/MQP/algona...</td>\n",
       "    </tr>\n",
       "    <tr>\n",
       "      <th>3</th>\n",
       "      <td>85</td>\n",
       "      <td>val2017</td>\n",
       "      <td>516318</td>\n",
       "      <td>person</td>\n",
       "      <td>person</td>\n",
       "      <td>C:/Users/josem/Documents/schoolWork/MQP/algona...</td>\n",
       "    </tr>\n",
       "    <tr>\n",
       "      <th>4</th>\n",
       "      <td>88</td>\n",
       "      <td>val2017</td>\n",
       "      <td>464251</td>\n",
       "      <td>bird</td>\n",
       "      <td>animal</td>\n",
       "      <td>C:/Users/josem/Documents/schoolWork/MQP/algona...</td>\n",
       "    </tr>\n",
       "    <tr>\n",
       "      <th>...</th>\n",
       "      <td>...</td>\n",
       "      <td>...</td>\n",
       "      <td>...</td>\n",
       "      <td>...</td>\n",
       "      <td>...</td>\n",
       "      <td>...</td>\n",
       "    </tr>\n",
       "    <tr>\n",
       "      <th>75081</th>\n",
       "      <td>72969</td>\n",
       "      <td>train2017</td>\n",
       "      <td>255800</td>\n",
       "      <td>person</td>\n",
       "      <td>person</td>\n",
       "      <td>C:/Users/josem/Documents/schoolWork/MQP/algona...</td>\n",
       "    </tr>\n",
       "    <tr>\n",
       "      <th>75082</th>\n",
       "      <td>72980</td>\n",
       "      <td>train2017</td>\n",
       "      <td>183100</td>\n",
       "      <td>scissors</td>\n",
       "      <td>indoor</td>\n",
       "      <td>C:/Users/josem/Documents/schoolWork/MQP/algona...</td>\n",
       "    </tr>\n",
       "    <tr>\n",
       "      <th>75083</th>\n",
       "      <td>72991</td>\n",
       "      <td>train2017</td>\n",
       "      <td>255904</td>\n",
       "      <td>truck</td>\n",
       "      <td>vehicle</td>\n",
       "      <td>C:/Users/josem/Documents/schoolWork/MQP/algona...</td>\n",
       "    </tr>\n",
       "    <tr>\n",
       "      <th>75084</th>\n",
       "      <td>72995</td>\n",
       "      <td>train2017</td>\n",
       "      <td>518071</td>\n",
       "      <td>cell phone</td>\n",
       "      <td>electronic</td>\n",
       "      <td>C:/Users/josem/Documents/schoolWork/MQP/algona...</td>\n",
       "    </tr>\n",
       "    <tr>\n",
       "      <th>75085</th>\n",
       "      <td>72996</td>\n",
       "      <td>train2017</td>\n",
       "      <td>255930</td>\n",
       "      <td>potted plant</td>\n",
       "      <td>furniture</td>\n",
       "      <td>C:/Users/josem/Documents/schoolWork/MQP/algona...</td>\n",
       "    </tr>\n",
       "  </tbody>\n",
       "</table>\n",
       "<p>75086 rows × 6 columns</p>\n",
       "</div>"
      ],
      "text/plain": [
       "       nsdId  cocoSplit  cocoId    classLabel superClassLabel  \\\n",
       "0         13    val2017   24610         chair       furniture   \n",
       "1         27    val2017  254016          bowl         kitchen   \n",
       "2         71    val2017  286908  dining table       furniture   \n",
       "3         85    val2017  516318        person          person   \n",
       "4         88    val2017  464251          bird          animal   \n",
       "...      ...        ...     ...           ...             ...   \n",
       "75081  72969  train2017  255800        person          person   \n",
       "75082  72980  train2017  183100      scissors          indoor   \n",
       "75083  72991  train2017  255904         truck         vehicle   \n",
       "75084  72995  train2017  518071    cell phone      electronic   \n",
       "75085  72996  train2017  255930  potted plant       furniture   \n",
       "\n",
       "                                                    path  \n",
       "0      C:/Users/josem/Documents/schoolWork/MQP/algona...  \n",
       "1      C:/Users/josem/Documents/schoolWork/MQP/algona...  \n",
       "2      C:/Users/josem/Documents/schoolWork/MQP/algona...  \n",
       "3      C:/Users/josem/Documents/schoolWork/MQP/algona...  \n",
       "4      C:/Users/josem/Documents/schoolWork/MQP/algona...  \n",
       "...                                                  ...  \n",
       "75081  C:/Users/josem/Documents/schoolWork/MQP/algona...  \n",
       "75082  C:/Users/josem/Documents/schoolWork/MQP/algona...  \n",
       "75083  C:/Users/josem/Documents/schoolWork/MQP/algona...  \n",
       "75084  C:/Users/josem/Documents/schoolWork/MQP/algona...  \n",
       "75085  C:/Users/josem/Documents/schoolWork/MQP/algona...  \n",
       "\n",
       "[75086 rows x 6 columns]"
      ]
     },
     "execution_count": 75,
     "metadata": {},
     "output_type": "execute_result"
    }
   ],
   "source": [
    "data"
   ]
  },
  {
   "cell_type": "code",
   "execution_count": 20,
   "metadata": {},
   "outputs": [
    {
     "data": {
      "text/plain": [
       "superClassLabel\n",
       "appliance      1165\n",
       "outdoor        2242\n",
       "accessory      2341\n",
       "electronic     2736\n",
       "indoor         2906\n",
       "food           3012\n",
       "sports         3096\n",
       "kitchen        4093\n",
       "furniture      6051\n",
       "vehicle       10283\n",
       "person        11115\n",
       "animal        11661\n",
       "Name: count, dtype: int64"
      ]
     },
     "execution_count": 20,
     "metadata": {},
     "output_type": "execute_result"
    }
   ],
   "source": [
    "data.drop_duplicates(subset=[\"nsdId\"])[\"superClassLabel\"].value_counts(ascending=True)"
   ]
  },
  {
   "cell_type": "code",
   "execution_count": 15,
   "metadata": {},
   "outputs": [],
   "source": [
    "dropNSD = data.drop_duplicates(subset=[\"nsdId\"])"
   ]
  },
  {
   "cell_type": "code",
   "execution_count": 77,
   "metadata": {},
   "outputs": [
    {
     "data": {
      "text/plain": [
       "superClassLabel\n",
       "animal        13200\n",
       "person        12555\n",
       "vehicle       11622\n",
       "furniture      6870\n",
       "kitchen        4601\n",
       "sports         3517\n",
       "food           3394\n",
       "indoor         3323\n",
       "electronic     3081\n",
       "accessory      2633\n",
       "outdoor        2496\n",
       "appliance      1316\n",
       "Name: count, dtype: int64"
      ]
     },
     "execution_count": 77,
     "metadata": {},
     "output_type": "execute_result"
    }
   ],
   "source": [
    "dropNSD[\"superClassLabel\"].value_counts()"
   ]
  },
  {
   "cell_type": "code",
   "execution_count": 83,
   "metadata": {},
   "outputs": [],
   "source": [
    "superClasses = dropNSD[\"superClassLabel\"].unique()"
   ]
  },
  {
   "cell_type": "code",
   "execution_count": 117,
   "metadata": {},
   "outputs": [],
   "source": [
    "superClasses.sort()"
   ]
  },
  {
   "cell_type": "code",
   "execution_count": 118,
   "metadata": {},
   "outputs": [
    {
     "data": {
      "text/plain": [
       "array(['accessory', 'animal', 'appliance', 'electronic', 'food',\n",
       "       'furniture', 'indoor', 'kitchen', 'outdoor', 'person', 'sports',\n",
       "       'vehicle'], dtype=object)"
      ]
     },
     "execution_count": 118,
     "metadata": {},
     "output_type": "execute_result"
    }
   ],
   "source": [
    "superClasses"
   ]
  },
  {
   "cell_type": "code",
   "execution_count": 96,
   "metadata": {},
   "outputs": [],
   "source": [
    "trainImages = []\n",
    "trainLabels = []\n",
    "validImages = []\n",
    "validLabels = []\n",
    "\n",
    "for superClass in superClasses:\n",
    "    rows = dropNSD[dropNSD[\"superClassLabel\"] == superClass].sort_values(by=[\"nsdId\"])\n",
    "    trainImages.extend(rows[\"path\"].iloc[:1100])\n",
    "    trainLabels.extend(rows[\"superClassLabel\"].iloc[:1100])\n",
    "    "
   ]
  },
  {
   "cell_type": "code",
   "execution_count": 97,
   "metadata": {},
   "outputs": [],
   "source": [
    "trainImages = np.array(trainImages)\n",
    "trainLabels = np.array(trainLabels)\n"
   ]
  },
  {
   "cell_type": "code",
   "execution_count": 100,
   "metadata": {},
   "outputs": [],
   "source": [
    "test = np.column_stack((trainImages, trainLabels))"
   ]
  },
  {
   "cell_type": "code",
   "execution_count": 102,
   "metadata": {},
   "outputs": [],
   "source": [
    "indicies = np.arange(len(trainImages))"
   ]
  },
  {
   "cell_type": "code",
   "execution_count": 110,
   "metadata": {},
   "outputs": [],
   "source": [
    "np.random.shuffle(indicies)"
   ]
  },
  {
   "cell_type": "code",
   "execution_count": 111,
   "metadata": {},
   "outputs": [
    {
     "data": {
      "text/plain": [
       "array([['C:/Users/josem/Documents/schoolWork/MQP/algonauts2023_transformers#2Leader/algonauts_2023_challenge_data/subj01/training_split/training_images/train-0050_nsd-00457.png',\n",
       "        'vehicle'],\n",
       "       ['C:/Users/josem/Documents/schoolWork/MQP/algonauts2023_transformers#2Leader/algonauts_2023_challenge_data/subj01/training_split/training_images/train-0082_nsd-00689.png',\n",
       "        'furniture'],\n",
       "       ['C:/Users/josem/Documents/schoolWork/MQP/algonauts2023_transformers#2Leader/algonauts_2023_challenge_data/subj01/training_split/training_images/train-0011_nsd-00113.png',\n",
       "        'person'],\n",
       "       ...,\n",
       "       ['C:/Users/josem/Documents/schoolWork/MQP/algonauts2023_transformers#2Leader/algonauts_2023_challenge_data/subj01/training_split/training_images/train-3841_nsd-31429.png',\n",
       "        'outdoor'],\n",
       "       ['C:/Users/josem/Documents/schoolWork/MQP/algonauts2023_transformers#2Leader/algonauts_2023_challenge_data/subj01/training_split/training_images/train-0339_nsd-02913.png',\n",
       "        'person'],\n",
       "       ['C:/Users/josem/Documents/schoolWork/MQP/algonauts2023_transformers#2Leader/algonauts_2023_challenge_data/subj01/training_split/training_images/train-1822_nsd-15327.png',\n",
       "        'indoor']], dtype='<U167')"
      ]
     },
     "execution_count": 111,
     "metadata": {},
     "output_type": "execute_result"
    }
   ],
   "source": [
    "test[indicies]"
   ]
  },
  {
   "cell_type": "code",
   "execution_count": 113,
   "metadata": {},
   "outputs": [],
   "source": [
    "trainImages = trainImages[indicies]\n",
    "trainLabels = trainLabels[indicies]"
   ]
  },
  {
   "cell_type": "code",
   "execution_count": 114,
   "metadata": {},
   "outputs": [],
   "source": [
    "np.save(\"newDatasetImagesPath.npy\", trainImages)"
   ]
  },
  {
   "cell_type": "code",
   "execution_count": 115,
   "metadata": {},
   "outputs": [],
   "source": [
    "np.save(\"newDatasetImagesLabel.npy\", trainLabels)\n"
   ]
  },
  {
   "cell_type": "code",
   "execution_count": 95,
   "metadata": {},
   "outputs": [
    {
     "name": "stdout",
     "output_type": "stream",
     "text": [
      "12000\n",
      "12000\n",
      "1200\n",
      "1200\n"
     ]
    }
   ],
   "source": [
    "print(len(trainImages))\n",
    "print(len(trainLabels))\n",
    "print(len(validImages))\n",
    "print(len(validLabels))\n"
   ]
  },
  {
   "cell_type": "code",
   "execution_count": 90,
   "metadata": {},
   "outputs": [
    {
     "data": {
      "text/html": [
       "<div>\n",
       "<style scoped>\n",
       "    .dataframe tbody tr th:only-of-type {\n",
       "        vertical-align: middle;\n",
       "    }\n",
       "\n",
       "    .dataframe tbody tr th {\n",
       "        vertical-align: top;\n",
       "    }\n",
       "\n",
       "    .dataframe thead th {\n",
       "        text-align: right;\n",
       "    }\n",
       "</style>\n",
       "<table border=\"1\" class=\"dataframe\">\n",
       "  <thead>\n",
       "    <tr style=\"text-align: right;\">\n",
       "      <th></th>\n",
       "      <th>nsdId</th>\n",
       "      <th>cocoSplit</th>\n",
       "      <th>cocoId</th>\n",
       "      <th>classLabel</th>\n",
       "      <th>superClassLabel</th>\n",
       "      <th>path</th>\n",
       "    </tr>\n",
       "  </thead>\n",
       "  <tbody>\n",
       "    <tr>\n",
       "      <th>0</th>\n",
       "      <td>13</td>\n",
       "      <td>val2017</td>\n",
       "      <td>24610</td>\n",
       "      <td>chair</td>\n",
       "      <td>furniture</td>\n",
       "      <td>C:/Users/josem/Documents/schoolWork/MQP/algona...</td>\n",
       "    </tr>\n",
       "    <tr>\n",
       "      <th>56473</th>\n",
       "      <td>47</td>\n",
       "      <td>val2017</td>\n",
       "      <td>163951</td>\n",
       "      <td>chair</td>\n",
       "      <td>furniture</td>\n",
       "      <td>C:/Users/josem/Documents/schoolWork/MQP/algona...</td>\n",
       "    </tr>\n",
       "    <tr>\n",
       "      <th>19687</th>\n",
       "      <td>48</td>\n",
       "      <td>val2017</td>\n",
       "      <td>360564</td>\n",
       "      <td>toilet</td>\n",
       "      <td>furniture</td>\n",
       "      <td>C:/Users/josem/Documents/schoolWork/MQP/algona...</td>\n",
       "    </tr>\n",
       "    <tr>\n",
       "      <th>47392</th>\n",
       "      <td>66</td>\n",
       "      <td>val2017</td>\n",
       "      <td>336053</td>\n",
       "      <td>chair</td>\n",
       "      <td>furniture</td>\n",
       "      <td>C:/Users/josem/Documents/schoolWork/MQP/algona...</td>\n",
       "    </tr>\n",
       "    <tr>\n",
       "      <th>2</th>\n",
       "      <td>71</td>\n",
       "      <td>val2017</td>\n",
       "      <td>286908</td>\n",
       "      <td>dining table</td>\n",
       "      <td>furniture</td>\n",
       "      <td>C:/Users/josem/Documents/schoolWork/MQP/algona...</td>\n",
       "    </tr>\n",
       "    <tr>\n",
       "      <th>...</th>\n",
       "      <td>...</td>\n",
       "      <td>...</td>\n",
       "      <td>...</td>\n",
       "      <td>...</td>\n",
       "      <td>...</td>\n",
       "      <td>...</td>\n",
       "    </tr>\n",
       "    <tr>\n",
       "      <th>9831</th>\n",
       "      <td>72948</td>\n",
       "      <td>train2017</td>\n",
       "      <td>517878</td>\n",
       "      <td>chair</td>\n",
       "      <td>furniture</td>\n",
       "      <td>C:/Users/josem/Documents/schoolWork/MQP/algona...</td>\n",
       "    </tr>\n",
       "    <tr>\n",
       "      <th>9832</th>\n",
       "      <td>72952</td>\n",
       "      <td>train2017</td>\n",
       "      <td>217387</td>\n",
       "      <td>potted plant</td>\n",
       "      <td>furniture</td>\n",
       "      <td>C:/Users/josem/Documents/schoolWork/MQP/algona...</td>\n",
       "    </tr>\n",
       "    <tr>\n",
       "      <th>9834</th>\n",
       "      <td>72975</td>\n",
       "      <td>train2017</td>\n",
       "      <td>517967</td>\n",
       "      <td>chair</td>\n",
       "      <td>furniture</td>\n",
       "      <td>C:/Users/josem/Documents/schoolWork/MQP/algona...</td>\n",
       "    </tr>\n",
       "    <tr>\n",
       "      <th>28761</th>\n",
       "      <td>72976</td>\n",
       "      <td>train2017</td>\n",
       "      <td>255827</td>\n",
       "      <td>bed</td>\n",
       "      <td>furniture</td>\n",
       "      <td>C:/Users/josem/Documents/schoolWork/MQP/algona...</td>\n",
       "    </tr>\n",
       "    <tr>\n",
       "      <th>75085</th>\n",
       "      <td>72996</td>\n",
       "      <td>train2017</td>\n",
       "      <td>255930</td>\n",
       "      <td>potted plant</td>\n",
       "      <td>furniture</td>\n",
       "      <td>C:/Users/josem/Documents/schoolWork/MQP/algona...</td>\n",
       "    </tr>\n",
       "  </tbody>\n",
       "</table>\n",
       "<p>6870 rows × 6 columns</p>\n",
       "</div>"
      ],
      "text/plain": [
       "       nsdId  cocoSplit  cocoId    classLabel superClassLabel  \\\n",
       "0         13    val2017   24610         chair       furniture   \n",
       "56473     47    val2017  163951         chair       furniture   \n",
       "19687     48    val2017  360564        toilet       furniture   \n",
       "47392     66    val2017  336053         chair       furniture   \n",
       "2         71    val2017  286908  dining table       furniture   \n",
       "...      ...        ...     ...           ...             ...   \n",
       "9831   72948  train2017  517878         chair       furniture   \n",
       "9832   72952  train2017  217387  potted plant       furniture   \n",
       "9834   72975  train2017  517967         chair       furniture   \n",
       "28761  72976  train2017  255827           bed       furniture   \n",
       "75085  72996  train2017  255930  potted plant       furniture   \n",
       "\n",
       "                                                    path  \n",
       "0      C:/Users/josem/Documents/schoolWork/MQP/algona...  \n",
       "56473  C:/Users/josem/Documents/schoolWork/MQP/algona...  \n",
       "19687  C:/Users/josem/Documents/schoolWork/MQP/algona...  \n",
       "47392  C:/Users/josem/Documents/schoolWork/MQP/algona...  \n",
       "2      C:/Users/josem/Documents/schoolWork/MQP/algona...  \n",
       "...                                                  ...  \n",
       "9831   C:/Users/josem/Documents/schoolWork/MQP/algona...  \n",
       "9832   C:/Users/josem/Documents/schoolWork/MQP/algona...  \n",
       "9834   C:/Users/josem/Documents/schoolWork/MQP/algona...  \n",
       "28761  C:/Users/josem/Documents/schoolWork/MQP/algona...  \n",
       "75085  C:/Users/josem/Documents/schoolWork/MQP/algona...  \n",
       "\n",
       "[6870 rows x 6 columns]"
      ]
     },
     "execution_count": 90,
     "metadata": {},
     "output_type": "execute_result"
    }
   ],
   "source": [
    "dropNSD[dropNSD[\"superClassLabel\"] == \"furniture\"].sort_values(by=[\"nsdId\"])"
   ]
  },
  {
   "cell_type": "code",
   "execution_count": 81,
   "metadata": {},
   "outputs": [
    {
     "data": {
      "text/html": [
       "<div>\n",
       "<style scoped>\n",
       "    .dataframe tbody tr th:only-of-type {\n",
       "        vertical-align: middle;\n",
       "    }\n",
       "\n",
       "    .dataframe tbody tr th {\n",
       "        vertical-align: top;\n",
       "    }\n",
       "\n",
       "    .dataframe thead th {\n",
       "        text-align: right;\n",
       "    }\n",
       "</style>\n",
       "<table border=\"1\" class=\"dataframe\">\n",
       "  <thead>\n",
       "    <tr style=\"text-align: right;\">\n",
       "      <th></th>\n",
       "      <th>nsdId</th>\n",
       "      <th>cocoSplit</th>\n",
       "      <th>cocoId</th>\n",
       "      <th>classLabel</th>\n",
       "      <th>superClassLabel</th>\n",
       "      <th>path</th>\n",
       "    </tr>\n",
       "  </thead>\n",
       "  <tbody>\n",
       "    <tr>\n",
       "      <th>56467</th>\n",
       "      <td>14</td>\n",
       "      <td>val2017</td>\n",
       "      <td>558114</td>\n",
       "      <td>tie</td>\n",
       "      <td>accessory</td>\n",
       "      <td>C:/Users/josem/Documents/schoolWork/MQP/algona...</td>\n",
       "    </tr>\n",
       "    <tr>\n",
       "      <th>47389</th>\n",
       "      <td>46</td>\n",
       "      <td>val2017</td>\n",
       "      <td>29984</td>\n",
       "      <td>umbrella</td>\n",
       "      <td>accessory</td>\n",
       "      <td>C:/Users/josem/Documents/schoolWork/MQP/algona...</td>\n",
       "    </tr>\n",
       "    <tr>\n",
       "      <th>19688</th>\n",
       "      <td>78</td>\n",
       "      <td>val2017</td>\n",
       "      <td>344268</td>\n",
       "      <td>tie</td>\n",
       "      <td>accessory</td>\n",
       "      <td>C:/Users/josem/Documents/schoolWork/MQP/algona...</td>\n",
       "    </tr>\n",
       "    <tr>\n",
       "      <th>9854</th>\n",
       "      <td>89</td>\n",
       "      <td>val2017</td>\n",
       "      <td>401446</td>\n",
       "      <td>umbrella</td>\n",
       "      <td>accessory</td>\n",
       "      <td>C:/Users/josem/Documents/schoolWork/MQP/algona...</td>\n",
       "    </tr>\n",
       "    <tr>\n",
       "      <th>56478</th>\n",
       "      <td>90</td>\n",
       "      <td>val2017</td>\n",
       "      <td>566282</td>\n",
       "      <td>tie</td>\n",
       "      <td>accessory</td>\n",
       "      <td>C:/Users/josem/Documents/schoolWork/MQP/algona...</td>\n",
       "    </tr>\n",
       "    <tr>\n",
       "      <th>...</th>\n",
       "      <td>...</td>\n",
       "      <td>...</td>\n",
       "      <td>...</td>\n",
       "      <td>...</td>\n",
       "      <td>...</td>\n",
       "      <td>...</td>\n",
       "    </tr>\n",
       "    <tr>\n",
       "      <th>28760</th>\n",
       "      <td>72972</td>\n",
       "      <td>train2017</td>\n",
       "      <td>255808</td>\n",
       "      <td>motorcycle</td>\n",
       "      <td>vehicle</td>\n",
       "      <td>C:/Users/josem/Documents/schoolWork/MQP/algona...</td>\n",
       "    </tr>\n",
       "    <tr>\n",
       "      <th>19681</th>\n",
       "      <td>72973</td>\n",
       "      <td>train2017</td>\n",
       "      <td>517958</td>\n",
       "      <td>train</td>\n",
       "      <td>vehicle</td>\n",
       "      <td>C:/Users/josem/Documents/schoolWork/MQP/algona...</td>\n",
       "    </tr>\n",
       "    <tr>\n",
       "      <th>37541</th>\n",
       "      <td>72988</td>\n",
       "      <td>train2017</td>\n",
       "      <td>518030</td>\n",
       "      <td>boat</td>\n",
       "      <td>vehicle</td>\n",
       "      <td>C:/Users/josem/Documents/schoolWork/MQP/algona...</td>\n",
       "    </tr>\n",
       "    <tr>\n",
       "      <th>47382</th>\n",
       "      <td>72990</td>\n",
       "      <td>train2017</td>\n",
       "      <td>566938</td>\n",
       "      <td>airplane</td>\n",
       "      <td>vehicle</td>\n",
       "      <td>C:/Users/josem/Documents/schoolWork/MQP/algona...</td>\n",
       "    </tr>\n",
       "    <tr>\n",
       "      <th>75083</th>\n",
       "      <td>72991</td>\n",
       "      <td>train2017</td>\n",
       "      <td>255904</td>\n",
       "      <td>truck</td>\n",
       "      <td>vehicle</td>\n",
       "      <td>C:/Users/josem/Documents/schoolWork/MQP/algona...</td>\n",
       "    </tr>\n",
       "  </tbody>\n",
       "</table>\n",
       "<p>68608 rows × 6 columns</p>\n",
       "</div>"
      ],
      "text/plain": [
       "       nsdId  cocoSplit  cocoId  classLabel superClassLabel  \\\n",
       "56467     14    val2017  558114         tie       accessory   \n",
       "47389     46    val2017   29984    umbrella       accessory   \n",
       "19688     78    val2017  344268         tie       accessory   \n",
       "9854      89    val2017  401446    umbrella       accessory   \n",
       "56478     90    val2017  566282         tie       accessory   \n",
       "...      ...        ...     ...         ...             ...   \n",
       "28760  72972  train2017  255808  motorcycle         vehicle   \n",
       "19681  72973  train2017  517958       train         vehicle   \n",
       "37541  72988  train2017  518030        boat         vehicle   \n",
       "47382  72990  train2017  566938    airplane         vehicle   \n",
       "75083  72991  train2017  255904       truck         vehicle   \n",
       "\n",
       "                                                    path  \n",
       "56467  C:/Users/josem/Documents/schoolWork/MQP/algona...  \n",
       "47389  C:/Users/josem/Documents/schoolWork/MQP/algona...  \n",
       "19688  C:/Users/josem/Documents/schoolWork/MQP/algona...  \n",
       "9854   C:/Users/josem/Documents/schoolWork/MQP/algona...  \n",
       "56478  C:/Users/josem/Documents/schoolWork/MQP/algona...  \n",
       "...                                                  ...  \n",
       "28760  C:/Users/josem/Documents/schoolWork/MQP/algona...  \n",
       "19681  C:/Users/josem/Documents/schoolWork/MQP/algona...  \n",
       "37541  C:/Users/josem/Documents/schoolWork/MQP/algona...  \n",
       "47382  C:/Users/josem/Documents/schoolWork/MQP/algona...  \n",
       "75083  C:/Users/josem/Documents/schoolWork/MQP/algona...  \n",
       "\n",
       "[68608 rows x 6 columns]"
      ]
     },
     "execution_count": 81,
     "metadata": {},
     "output_type": "execute_result"
    }
   ],
   "source": [
    "dropNSD.sort_values(by=[\"superClassLabel\", \"nsdId\"])"
   ]
  }
 ],
 "metadata": {
  "kernelspec": {
   "display_name": "Python 3.11.1 64-bit",
   "language": "python",
   "name": "python3"
  },
  "language_info": {
   "codemirror_mode": {
    "name": "ipython",
    "version": 3
   },
   "file_extension": ".py",
   "mimetype": "text/x-python",
   "name": "python",
   "nbconvert_exporter": "python",
   "pygments_lexer": "ipython3",
   "version": "3.11.1"
  },
  "orig_nbformat": 4,
  "vscode": {
   "interpreter": {
    "hash": "8907f5995ab74a6cd5df9da2d2bcd12f57f5b23c9c38358337eeb837f01ad676"
   }
  }
 },
 "nbformat": 4,
 "nbformat_minor": 2
}
